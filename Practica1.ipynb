{
 "cells": [
  {
   "cell_type": "code",
   "execution_count": 5,
   "metadata": {},
   "outputs": [
    {
     "name": "stdout",
     "output_type": "stream",
     "text": [
      "4.5\n"
     ]
    }
   ],
   "source": [
    "#Division con sentencia if para saber si el divisor es > 0\n",
    "\n",
    "def division(dividendo, divisor):\n",
    "    resultado = dividendo / divisor\n",
    "    return resultado\n",
    "\n",
    "dividendoM = int(input (\"Introduzca el dividendo: \"))\n",
    "divisorM = int(input(\"Introduzca el divisor: \"))\n",
    "\n",
    "if (divisorM <= 0 ):\n",
    "    print (\"El resultado es indefinido\")\n",
    "else: \n",
    "    print(float(division(dividendoM, divisorM)))\n",
    "\n",
    "\n",
    "\n",
    "\n"
   ]
  },
  {
   "cell_type": "code",
   "execution_count": 4,
   "metadata": {},
   "outputs": [
    {
     "name": "stdout",
     "output_type": "stream",
     "text": [
      "2\n",
      "4\n",
      "6\n",
      "8\n"
     ]
    }
   ],
   "source": [
    "##Función que reciba una lista de números enteros como parámetro e imprima los números pares de la lista.\n",
    "\n",
    "def pares(lista):\n",
    "    for numero in lista:\n",
    "        if (numero % 2 == 0):\n",
    "            print (numero)\n",
    "\n",
    "pares ([1, 2 , 3, 4, 5, 6, 7, 8])\n",
    "\n",
    "\n",
    "\n",
    "\n",
    "\n",
    "\n",
    "\n",
    "\n"
   ]
  },
  {
   "cell_type": "code",
   "execution_count": 42,
   "metadata": {},
   "outputs": [
    {
     "name": "stdout",
     "output_type": "stream",
     "text": [
      "True\n"
     ]
    }
   ],
   "source": [
    "##Función que reciba una cadena y un caracter como parámetros, regresa True si el caracter se encuentra en la cadena\n",
    "##en otro caso regresar False.\n",
    "\n",
    "def evaluar (cadena, letra):\n",
    "        if letra in cadena:\n",
    "            print (\"True\")\n",
    "        else:\n",
    "            print (\"False\")\n",
    "\n",
    "            \n",
    "cadena1 = ('Hola')\n",
    "letra1 = ('a')\n",
    "evaluar(cadena1, letra1)"
   ]
  },
  {
   "cell_type": "code",
   "execution_count": 40,
   "metadata": {},
   "outputs": [
    {
     "name": "stdout",
     "output_type": "stream",
     "text": [
      "3\n",
      "6\n",
      "9\n",
      "12\n",
      "15\n",
      "18\n",
      "21\n",
      "24\n"
     ]
    }
   ],
   "source": [
    "## Función que reciba una lista de números enteros como parámetro e imprima el triple de cada elemento de la lista.\n",
    "\n",
    "def resultados (lista):\n",
    "    for numeros in lista:\n",
    "        multiplicacionTres = (numeros * 3)\n",
    "        print (multiplicacionTres)\n",
    "\n",
    "resultados ([1, 2 , 3, 4, 5, 6, 7, 8])\n",
    "        \n"
   ]
  },
  {
   "cell_type": "code",
   "execution_count": 59,
   "metadata": {},
   "outputs": [
    {
     "name": "stdout",
     "output_type": "stream",
     "text": [
      "Las cadenas que no tienen un caracter son: \n",
      "Como\n"
     ]
    }
   ],
   "source": [
    "##Función que reciba una lista de cadenas y un caracter como parámetros, e\n",
    "##imprime las cadenas que no tengan el caracter que se paso como parámetro.\n",
    "\n",
    "def cadenasSin (caracter, listaCadenas):\n",
    "    for cadena in listaCadenas:\n",
    "        if (not caracter in cadena):\n",
    "            print (cadena)\n",
    "\n",
    "listaEjemplo = ([\"Hola\", \"Como\", \"Estas\"])\n",
    "caracterEjemplo = (\"a\")\n",
    "\n",
    "print (\"Las cadenas que no tienen un caracter son: \") \n",
    "cadenasSin(caracterEjemplo, listaEjemplo)"
   ]
  }
 ],
 "metadata": {
  "kernelspec": {
   "display_name": "Python 3.8.10 64-bit",
   "language": "python",
   "name": "python3"
  },
  "language_info": {
   "codemirror_mode": {
    "name": "ipython",
    "version": 3
   },
   "file_extension": ".py",
   "mimetype": "text/x-python",
   "name": "python",
   "nbconvert_exporter": "python",
   "pygments_lexer": "ipython3",
   "version": "3.8.10"
  },
  "orig_nbformat": 4,
  "vscode": {
   "interpreter": {
    "hash": "31f2aee4e71d21fbe5cf8b01ff0e069b9275f58929596ceb00d14d90e3e16cd6"
   }
  }
 },
 "nbformat": 4,
 "nbformat_minor": 2
}
